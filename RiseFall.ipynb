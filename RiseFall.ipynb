{
 "metadata": {
  "name": "",
  "signature": "sha256:3189d80b26bbbf4507b9b0f3fef7e8f6644aff4ebca4728e5dbde3f98d377c46"
 },
 "nbformat": 3,
 "nbformat_minor": 0,
 "worksheets": [
  {
   "cells": [
    {
     "cell_type": "code",
     "collapsed": false,
     "input": [
      "%pylab inline\n",
      "import matplotlib as mpl\n",
      "import numpy as np\n",
      "import sys, os"
     ],
     "language": "python",
     "metadata": {},
     "outputs": [
      {
       "output_type": "stream",
       "stream": "stdout",
       "text": [
        "Populating the interactive namespace from numpy and matplotlib\n"
       ]
      }
     ],
     "prompt_number": 2
    },
    {
     "cell_type": "code",
     "collapsed": false,
     "input": [
      "data_path='data'\n",
      "datas = os.listdir(data_path)"
     ],
     "language": "python",
     "metadata": {},
     "outputs": [],
     "prompt_number": 12
    },
    {
     "cell_type": "code",
     "collapsed": false,
     "input": [
      "\n",
      "print datas\n",
      "for i in datas:\n",
      "    inputfile=open(data_path+'/'+i, 'r')\n",
      "    for line in inputfile:\n",
      "        words = line.split(' ')\n",
      "        if not len(words) < 16 and words[0]:\n",
      "            datetime = words[10]\n",
      "            dataDict[datetime] = words[1:9]\n",
      "    for key in dataDict:\n",
      "        for i in range(len(dataDict[key])):\n",
      "            dataDict[key][i] = int(dataDict[key][i], 16)"
     ],
     "language": "python",
     "metadata": {},
     "outputs": [
      {
       "output_type": "stream",
       "stream": "stdout",
       "text": [
        "['6445.2014.0529.2']\n"
       ]
      },
      {
       "metadata": {},
       "output_type": "pyout",
       "prompt_number": 38,
       "text": [
        "[0, 0, 0, 0, 0, 0, 0, 38]"
       ]
      }
     ],
     "prompt_number": 38
    },
    {
     "cell_type": "code",
     "collapsed": false,
     "input": [
      "    movement = {}\n",
      "    for key in dataDict:\n",
      "        returnString = ''\n",
      "        if dataDict[key][0] != 0:\n",
      "            returnString+='1'\n",
      "        else:\n",
      "            returnString+='0'\n",
      "        if dataDict[key][1] != 0:\n",
      "            returnString+='1'\n",
      "        else:\n",
      "            returnString+='0'\n",
      "        if dataDict[key][2] != 0:\n",
      "            returnString+='1'\n",
      "        else:\n",
      "            returnString+='0'\n",
      "        if dataDict[key][3] != 0:\n",
      "            returnString+='1'\n",
      "        else:\n",
      "            returnString+='0'\n",
      "        if dataDict[key][4] != 0:\n",
      "            returnString+='1'\n",
      "        else:\n",
      "            returnString+='0'\n",
      "        if dataDict[key][5] != 0:\n",
      "            returnString+='1'\n",
      "        else:\n",
      "            returnString+='0'\n",
      "        if dataDict[key][6] != 0:\n",
      "            returnString+='1'\n",
      "        else:\n",
      "            returnString+='0'\n",
      "        if dataDict[key][7] != 0:\n",
      "            returnString+='1'\n",
      "        else:\n",
      "            returnString+='0'\n",
      "        \n",
      "        movement[key] = returnString"
     ],
     "language": "python",
     "metadata": {},
     "outputs": [],
     "prompt_number": 14
    },
    {
     "cell_type": "code",
     "collapsed": false,
     "input": [
      "pos={1:[],2:[],3:[],4:[],5:[],6:[],7:[],8:[]}\n",
      "for key in movement:\n",
      "    word=movement[key]\n",
      "    for i in range(len(word)):\n",
      "        if i==1:\n",
      "            if int(word[i])==1:\n",
      "                pos[1].append(dataDict[key][i])\n",
      "            else:\n",
      "                pos[1].append(0)\n",
      "        if i==2:\n",
      "            if int(word[i])==1:\n",
      "                pos[2].append(dataDict[key][i])\n",
      "            else:\n",
      "                pos[2].append(0)\n",
      "        if i==3:\n",
      "            if int(word[i])==1:\n",
      "                pos[3].append(dataDict[key][i])\n",
      "            else:\n",
      "                pos[3].append(0)\n",
      "        if i==4:\n",
      "            if int(word[i])==1:\n",
      "                pos[4].append(dataDict[key][i])\n",
      "            else:\n",
      "                pos[4].append(0)\n",
      "        if i==5:\n",
      "            if int(word[i])==1:\n",
      "                pos[5].append(dataDict[key][i])\n",
      "            else:\n",
      "                pos[5].append(0)\n",
      "        if i==6:\n",
      "            if int(word[i])==1:\n",
      "                pos[6].append(dataDict[key][i])\n",
      "            else:\n",
      "                pos[6].append(0)\n",
      "        if i==7:\n",
      "            if int(word[i])==1:\n",
      "                pos[7].append(dataDict[key][i])\n",
      "            else:\n",
      "                pos[7].append(0)\n",
      "        if i==8:\n",
      "            if int(word[i])==1:\n",
      "                pos[8].append(dataDict[key][i])\n",
      "            else:\n",
      "                pos[8].append(0)"
     ],
     "language": "python",
     "metadata": {},
     "outputs": [],
     "prompt_number": 23
    },
    {
     "cell_type": "code",
     "collapsed": false,
     "input": [
      "x = []\n",
      "avg = []\n",
      "for i in range(len(pos[1])-1):\n",
      "    avg.append((pos[1][i]+pos[3][i]+pos[5][i]+pos[7][i])/4)\n",
      "minimum = min(avg[1:100])\n",
      "maximum = max(avg[1:100])\n",
      "midline = []\n",
      "for i in range(len(pos[1])):\n",
      "    midline.append((minimum+maximum)/2)\n",
      "for key in movement:\n",
      "    x.append(int(float(key)))\n",
      "np.sum(pos[2])\n",
      "plt.title('Odds')\n",
      "#plt.plot(pos[1][1:100],'b',pos[3][1:100],'g',pos[5][1:100],'k', pos[7][1:100],'r')\n",
      "plt.plot(avg[1:100], '--', midline[1:100],'g--')\n",
      "plt.show()"
     ],
     "language": "python",
     "metadata": {},
     "outputs": [
      {
       "metadata": {},
       "output_type": "display_data",
       "png": "[encoded data removed]",
       "text": [
        "<matplotlib.figure.Figure at 0x7f278b39ca10>"
       ]
      }
     ],
     "prompt_number": 35
    },
    {
     "cell_type": "code",
     "collapsed": false,
     "input": [],
     "language": "python",
     "metadata": {},
     "outputs": []
    },
    {
     "cell_type": "code",
     "collapsed": false,
     "input": [],
     "language": "python",
     "metadata": {},
     "outputs": []
    }
   ],
   "metadata": {}
  }
 ]
}