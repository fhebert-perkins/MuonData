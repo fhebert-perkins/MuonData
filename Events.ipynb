{
 "metadata": {
  "name": ""
 },
 "nbformat": 3,
 "nbformat_minor": 0,
 "worksheets": [
  {
   "cells": [
    {
     "cell_type": "code",
     "collapsed": false,
     "input": [
      "%pylab inline"
     ],
     "language": "python",
     "metadata": {},
     "outputs": [
      {
       "output_type": "stream",
       "stream": "stdout",
       "text": [
        "Populating the interactive namespace from numpy and matplotlib\n"
       ]
      }
     ],
     "prompt_number": 1
    },
    {
     "cell_type": "code",
     "collapsed": false,
     "input": [
      "datafile = open(\"data/6445.2014.0529.2\", \"r\")\n",
      "events = []\n",
      "for line in datafile:\n",
      "    if int(line.split(\" \")[1], 16) == 128:\n",
      "        events.append([line.split(\" \")[1:8]])\n",
      "    else:\n",
      "        events[len(events)-1].append(line.split(\" \")[1:8])"
     ],
     "language": "python",
     "metadata": {},
     "outputs": [],
     "prompt_number": 5
    },
    {
     "cell_type": "code",
     "collapsed": false,
     "input": [],
     "language": "python",
     "metadata": {},
     "outputs": [
      {
       "metadata": {},
       "output_type": "pyout",
       "prompt_number": 7,
       "text": [
        "[[['80', '00', '3C', '00', '3C', '00', '3A'],\n",
        "  ['00', '00', '00', '00', '2D', '2C', '00'],\n",
        "  ['00', '00', '00', '30', '00', '36', '00']],\n",
        " [['80', '00', '00', '00', '00', '00', '37'],\n",
        "  ['00', '00', '00', '00', '39', '00', '00'],\n",
        "  ['00', '00', '00', '00', '00', '00', '00'],\n",
        "  ['00', '00', '00', '00', '00', '28', '00']],\n",
        " [['80', '00', '3D', '00', '3E', '00', '00'],\n",
        "  ['00', '00', '00', '2B', '00', '00', '00'],\n",
        "  ['00', '00', '00', '00', '00', '35', '00'],\n",
        "  ['B5', '00', '34', '00', '00', '00', '30'],\n",
        "  ['00', '00', '00', '24', '00', '00', '00'],\n",
        "  ['00', '2B', '00', '00', '00', '00', '00'],\n",
        "  ['A6', '00', '24', '00', '25', '00', '22'],\n",
        "  ['00', '00', '00', '00', '00', '00', '2E'],\n",
        "  ['00', '00', '00', '30', '00', '30', '00'],\n",
        "  ['00', '3D', '00', '00', '00', '00', '00'],\n",
        "  ['AF', '00', '2D', '00', '2E', '00', '2D'],\n",
        "  ['00', '00', '00', '3D', '00', '00', '3E'],\n",
        "  ['00', '00', '00', '00', '00', '20', '00']],\n",
        " [['80', '00', '37', '00', '00', '00', '00'],\n",
        "  ['38', '00', '00', '00', '3B', '00', '39'],\n",
        "  ['00', '00', '00', '29', '00', '2B', '00']],\n",
        " [['80', '00', '00', '00', '00', '00', '3E'],\n",
        "  ['00', '00', '00', '00', '22', '00', '00'],\n",
        "  ['00', '00', '00', '00', '00', '30', '00']]]"
       ]
      }
     ],
     "prompt_number": 7
    },
    {
     "cell_type": "code",
     "collapsed": false,
     "input": [],
     "language": "python",
     "metadata": {},
     "outputs": []
    }
   ],
   "metadata": {}
  }
 ]
}